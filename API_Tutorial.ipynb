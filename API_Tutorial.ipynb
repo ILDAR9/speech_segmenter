{
 "cells": [
  {
   "cell_type": "code",
   "execution_count": null,
   "metadata": {},
   "outputs": [],
   "source": [
    "# Load the API\n",
    "import sys\n",
    "sys.path.append(\"/home/nurgaliev_ii/projects/speech_segmenter\")\n",
    "from speech_segmenter import Segmenter\n",
    "from speech_segmenter.export_funcs import seg2csv, seg2textgrid"
   ]
  },
  {
   "cell_type": "code",
   "execution_count": null,
   "metadata": {},
   "outputs": [],
   "source": [
    "# select a media to analyse (audio, url, video)\n",
    "media = '/home/nurgaliev_ii/data/asr/cpl_collection/wav_8k/cpl-01-1622355351.53554122_001.wav'"
   ]
  },
  {
   "cell_type": "code",
   "execution_count": null,
   "metadata": {},
   "outputs": [],
   "source": [
    "# instance of speech segmenter\n",
    "seg = Segmenter()"
   ]
  },
  {
   "cell_type": "code",
   "execution_count": null,
   "metadata": {},
   "outputs": [],
   "source": [
    "# segmentation is performed using the __call__ method of the segmenter instance\n",
    "segmentation = seg(media)"
   ]
  },
  {
   "cell_type": "code",
   "execution_count": null,
   "metadata": {},
   "outputs": [],
   "source": [
    "# the result is a list of tuples\n",
    "# each tuple contains:\n",
    "# * label in 'male', 'female', 'music', 'noEnergy'\n",
    "# * start time of the segment\n",
    "# * end time of the segment\n",
    "print(segmentation)"
   ]
  },
  {
   "cell_type": "code",
   "execution_count": null,
   "metadata": {},
   "outputs": [],
   "source": [
    "# this writes the resulting segmentation into a csvfile\n",
    "# the csv file may be used to import segmentation into visualization softwares,\n",
    "# such as sonic-visualiser: https://www.sonicvisualiser.org\n",
    "seg2csv(segmentation, 'myseg.csv')"
   ]
  },
  {
   "cell_type": "code",
   "execution_count": null,
   "metadata": {},
   "outputs": [],
   "source": [
    "# Here is the resulting CSV\n",
    "!cat myseg.csv"
   ]
  },
  {
   "cell_type": "code",
   "execution_count": null,
   "metadata": {},
   "outputs": [],
   "source": []
  }
 ],
 "metadata": {
  "kernelspec": {
   "display_name": "Python 3 (ipykernel)",
   "language": "python",
   "name": "python3"
  },
  "language_info": {
   "codemirror_mode": {
    "name": "ipython",
    "version": 3
   },
   "file_extension": ".py",
   "mimetype": "text/x-python",
   "name": "python",
   "nbconvert_exporter": "python",
   "pygments_lexer": "ipython3",
   "version": "3.8.12"
  }
 },
 "nbformat": 4,
 "nbformat_minor": 4
}
